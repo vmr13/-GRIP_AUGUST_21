{
 "cells": [
  {
   "cell_type": "markdown",
   "id": "bbb9cb41",
   "metadata": {},
   "source": [
    "# GRIP Task1 - Prediction using Supervised ML\n",
    "\n",
    "\n",
    "\n",
    "\n"
   ]
  },
  {
   "cell_type": "markdown",
   "id": "11518047",
   "metadata": {},
   "source": [
    "# "
   ]
  },
  {
   "cell_type": "markdown",
   "id": "31a13a4d",
   "metadata": {},
   "source": [
    "Author - Vedant Mozumdar\n",
    "\n",
    "GRIPJULY21\n"
   ]
  },
  {
   "cell_type": "markdown",
   "id": "00273d1f",
   "metadata": {},
   "source": [
    "# "
   ]
  },
  {
   "cell_type": "code",
   "execution_count": 45,
   "id": "0057367f",
   "metadata": {},
   "outputs": [],
   "source": [
    "#importing all the libraries\n",
    "\n",
    "import numpy as np\n",
    "import pandas as pd\n",
    "import matplotlib.pyplot as mb\n",
    "%matplotlib inline\n",
    "import seaborn as sb "
   ]
  },
  {
   "cell_type": "code",
   "execution_count": 46,
   "id": "740c0d65",
   "metadata": {},
   "outputs": [
    {
     "name": "stdout",
     "output_type": "stream",
     "text": [
      "Data imported successfully\n"
     ]
    }
   ],
   "source": [
    "#importing and reaading the dataset\n",
    "\n",
    "sc = pd.read_csv('https://raw.githubusercontent.com/AdiPersonalWorks/Random/master/student_scores%20-%20student_scores.csv')\n",
    "print(\"Data imported successfully\")"
   ]
  },
  {
   "cell_type": "code",
   "execution_count": 47,
   "id": "7c4998c0",
   "metadata": {},
   "outputs": [
    {
     "name": "stdout",
     "output_type": "stream",
     "text": [
      "<class 'pandas.core.frame.DataFrame'>\n",
      "RangeIndex: 25 entries, 0 to 24\n",
      "Data columns (total 2 columns):\n",
      " #   Column  Non-Null Count  Dtype  \n",
      "---  ------  --------------  -----  \n",
      " 0   Hours   25 non-null     float64\n",
      " 1   Scores  25 non-null     int64  \n",
      "dtypes: float64(1), int64(1)\n",
      "memory usage: 528.0 bytes\n"
     ]
    }
   ],
   "source": [
    "#info if the dataset\n",
    "\n",
    "sc.info()"
   ]
  },
  {
   "cell_type": "code",
   "execution_count": 48,
   "id": "960c3bc9",
   "metadata": {},
   "outputs": [
    {
     "data": {
      "text/html": [
       "<div>\n",
       "<style scoped>\n",
       "    .dataframe tbody tr th:only-of-type {\n",
       "        vertical-align: middle;\n",
       "    }\n",
       "\n",
       "    .dataframe tbody tr th {\n",
       "        vertical-align: top;\n",
       "    }\n",
       "\n",
       "    .dataframe thead th {\n",
       "        text-align: right;\n",
       "    }\n",
       "</style>\n",
       "<table border=\"1\" class=\"dataframe\">\n",
       "  <thead>\n",
       "    <tr style=\"text-align: right;\">\n",
       "      <th></th>\n",
       "      <th>Hours</th>\n",
       "      <th>Scores</th>\n",
       "    </tr>\n",
       "  </thead>\n",
       "  <tbody>\n",
       "    <tr>\n",
       "      <th>0</th>\n",
       "      <td>2.5</td>\n",
       "      <td>21</td>\n",
       "    </tr>\n",
       "    <tr>\n",
       "      <th>1</th>\n",
       "      <td>5.1</td>\n",
       "      <td>47</td>\n",
       "    </tr>\n",
       "    <tr>\n",
       "      <th>2</th>\n",
       "      <td>3.2</td>\n",
       "      <td>27</td>\n",
       "    </tr>\n",
       "    <tr>\n",
       "      <th>3</th>\n",
       "      <td>8.5</td>\n",
       "      <td>75</td>\n",
       "    </tr>\n",
       "    <tr>\n",
       "      <th>4</th>\n",
       "      <td>3.5</td>\n",
       "      <td>30</td>\n",
       "    </tr>\n",
       "  </tbody>\n",
       "</table>\n",
       "</div>"
      ],
      "text/plain": [
       "   Hours  Scores\n",
       "0    2.5      21\n",
       "1    5.1      47\n",
       "2    3.2      27\n",
       "3    8.5      75\n",
       "4    3.5      30"
      ]
     },
     "execution_count": 48,
     "metadata": {},
     "output_type": "execute_result"
    }
   ],
   "source": [
    "#the first five values in the dataset\n",
    "\n",
    "sc.head()"
   ]
  },
  {
   "cell_type": "markdown",
   "id": "6fb4954d",
   "metadata": {},
   "source": [
    "Plotting Hours against Scores on a 2D graph"
   ]
  },
  {
   "cell_type": "code",
   "execution_count": 49,
   "id": "a1f65ae8",
   "metadata": {},
   "outputs": [
    {
     "data": {
      "text/plain": [
       "Text(0.5, 1.0, 'Hours vs Scores')"
      ]
     },
     "execution_count": 49,
     "metadata": {},
     "output_type": "execute_result"
    },
    {
     "data": {
      "image/png": "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\n",
      "text/plain": [
       "<Figure size 432x288 with 1 Axes>"
      ]
     },
     "metadata": {
      "needs_background": "light"
     },
     "output_type": "display_data"
    }
   ],
   "source": [
    "# Plotting the distribution of scores\n",
    "\n",
    "sb.scatterplot(x='Hours',y='Scores', data=sc)\n",
    "mb.title('Hours vs Scores')"
   ]
  },
  {
   "cell_type": "markdown",
   "id": "509f7224",
   "metadata": {},
   "source": [
    "The graph shows that there is a positive relation between Hours and Scores"
   ]
  },
  {
   "cell_type": "markdown",
   "id": "f3163002",
   "metadata": {},
   "source": [
    "# Preparing and training the data"
   ]
  },
  {
   "cell_type": "code",
   "execution_count": 50,
   "id": "1bbeb095",
   "metadata": {},
   "outputs": [],
   "source": [
    "#import of model from sklearn\n",
    "\n",
    "from sklearn.model_selection import train_test_split  "
   ]
  },
  {
   "cell_type": "code",
   "execution_count": 51,
   "id": "037e5281",
   "metadata": {},
   "outputs": [],
   "source": [
    "#dividing the data into \"attributes\" (inputs) and \"labels\" (outputs)\n",
    "\n",
    "X = sc.iloc[:, :-1].values  \n",
    "y = sc.iloc[:, 1].values \n",
    "\n",
    "#splitting the data using Scikit-Learn's built-in train_test_split() method:\n",
    "\n",
    "X_train, X_test, y_train, y_test = train_test_split(X, y, test_size=0.4, random_state=0)"
   ]
  },
  {
   "cell_type": "code",
   "execution_count": 52,
   "id": "5b33cc8c",
   "metadata": {},
   "outputs": [
    {
     "name": "stdout",
     "output_type": "stream",
     "text": [
      "Training is complete.\n"
     ]
    }
   ],
   "source": [
    "#import of linear regression model from sklearn\n",
    "\n",
    "from sklearn.linear_model import LinearRegression  \n",
    "lr = LinearRegression()  \n",
    "lr.fit(X_train, y_train) \n",
    "\n",
    "print(\"Training is complete.\")"
   ]
  },
  {
   "cell_type": "code",
   "execution_count": 53,
   "id": "205dd988",
   "metadata": {},
   "outputs": [
    {
     "data": {
      "text/plain": [
       "array([9.89775614])"
      ]
     },
     "execution_count": 53,
     "metadata": {},
     "output_type": "execute_result"
    }
   ],
   "source": [
    "#finding the coefficient of regression\n",
    "\n",
    "lr.coef_"
   ]
  },
  {
   "cell_type": "code",
   "execution_count": 54,
   "id": "71d4d4c1",
   "metadata": {},
   "outputs": [
    {
     "data": {
      "image/png": "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\n",
      "text/plain": [
       "<Figure size 432x288 with 1 Axes>"
      ]
     },
     "metadata": {
      "needs_background": "light"
     },
     "output_type": "display_data"
    }
   ],
   "source": [
    "# Plotting the regression line\n",
    "\n",
    "line = lr.coef_*X+lr.intercept_\n",
    "\n",
    "# Plotting for the test data\n",
    "\n",
    "mb.scatter(X, y)\n",
    "mb.plot(X, line);\n",
    "mb.show()"
   ]
  },
  {
   "cell_type": "code",
   "execution_count": 55,
   "id": "c953cef7",
   "metadata": {},
   "outputs": [],
   "source": [
    "#predicting the model\n",
    "\n",
    "pre = lr.predict(X_test)"
   ]
  },
  {
   "cell_type": "code",
   "execution_count": 56,
   "id": "461bf414",
   "metadata": {},
   "outputs": [
    {
     "data": {
      "text/html": [
       "<div>\n",
       "<style scoped>\n",
       "    .dataframe tbody tr th:only-of-type {\n",
       "        vertical-align: middle;\n",
       "    }\n",
       "\n",
       "    .dataframe tbody tr th {\n",
       "        vertical-align: top;\n",
       "    }\n",
       "\n",
       "    .dataframe thead th {\n",
       "        text-align: right;\n",
       "    }\n",
       "</style>\n",
       "<table border=\"1\" class=\"dataframe\">\n",
       "  <thead>\n",
       "    <tr style=\"text-align: right;\">\n",
       "      <th></th>\n",
       "      <th>Actual Data</th>\n",
       "      <th>Predicted Data</th>\n",
       "    </tr>\n",
       "  </thead>\n",
       "  <tbody>\n",
       "    <tr>\n",
       "      <th>0</th>\n",
       "      <td>20</td>\n",
       "      <td>15.947762</td>\n",
       "    </tr>\n",
       "    <tr>\n",
       "      <th>1</th>\n",
       "      <td>27</td>\n",
       "      <td>32.773947</td>\n",
       "    </tr>\n",
       "    <tr>\n",
       "      <th>2</th>\n",
       "      <td>69</td>\n",
       "      <td>74.344523</td>\n",
       "    </tr>\n",
       "    <tr>\n",
       "      <th>3</th>\n",
       "      <td>30</td>\n",
       "      <td>25.845518</td>\n",
       "    </tr>\n",
       "    <tr>\n",
       "      <th>4</th>\n",
       "      <td>62</td>\n",
       "      <td>59.497889</td>\n",
       "    </tr>\n",
       "    <tr>\n",
       "      <th>5</th>\n",
       "      <td>35</td>\n",
       "      <td>38.712601</td>\n",
       "    </tr>\n",
       "    <tr>\n",
       "      <th>6</th>\n",
       "      <td>24</td>\n",
       "      <td>19.906864</td>\n",
       "    </tr>\n",
       "    <tr>\n",
       "      <th>7</th>\n",
       "      <td>86</td>\n",
       "      <td>78.303625</td>\n",
       "    </tr>\n",
       "    <tr>\n",
       "      <th>8</th>\n",
       "      <td>76</td>\n",
       "      <td>69.395645</td>\n",
       "    </tr>\n",
       "    <tr>\n",
       "      <th>9</th>\n",
       "      <td>17</td>\n",
       "      <td>11.988659</td>\n",
       "    </tr>\n",
       "  </tbody>\n",
       "</table>\n",
       "</div>"
      ],
      "text/plain": [
       "   Actual Data  Predicted Data\n",
       "0           20       15.947762\n",
       "1           27       32.773947\n",
       "2           69       74.344523\n",
       "3           30       25.845518\n",
       "4           62       59.497889\n",
       "5           35       38.712601\n",
       "6           24       19.906864\n",
       "7           86       78.303625\n",
       "8           76       69.395645\n",
       "9           17       11.988659"
      ]
     },
     "execution_count": 56,
     "metadata": {},
     "output_type": "execute_result"
    }
   ],
   "source": [
    "# Comparing Actual vs Predicted Data\n",
    "\n",
    "df = pd.DataFrame({'Actual Data': y_test, 'Predicted Data': pre})  \n",
    "df "
   ]
  },
  {
   "cell_type": "code",
   "execution_count": 57,
   "id": "6ab33364",
   "metadata": {},
   "outputs": [
    {
     "name": "stdout",
     "output_type": "stream",
     "text": [
      "Predicted Score of a student studies for 9.25 hrs/day is = [92.65537185]\n"
     ]
    }
   ],
   "source": [
    "#Finding out the task where the student studies for 9.25 hrs/ day\n",
    "\n",
    "dataset = np.array(9.25)\n",
    "hrs = dataset.reshape(-1, 1)\n",
    "hrs_pre = lr.predict(hrs)\n",
    "print('Predicted Score of a student studies for 9.25 hrs/day is = {}'.format(hrs_pre))"
   ]
  },
  {
   "cell_type": "code",
   "execution_count": 58,
   "id": "f910d943",
   "metadata": {},
   "outputs": [
    {
     "ename": "SyntaxError",
     "evalue": "invalid syntax (<ipython-input-58-d4f7c3875a89>, line 3)",
     "output_type": "error",
     "traceback": [
      "\u001b[1;36m  File \u001b[1;32m\"<ipython-input-58-d4f7c3875a89>\"\u001b[1;36m, line \u001b[1;32m3\u001b[0m\n\u001b[1;33m    We have found out the Mean Absolute Error and R-Square\u001b[0m\n\u001b[1;37m       ^\u001b[0m\n\u001b[1;31mSyntaxError\u001b[0m\u001b[1;31m:\u001b[0m invalid syntax\n"
     ]
    }
   ],
   "source": [
    "##Evaluation of the model\n",
    "\n",
    "We have found out the Mean Absolute Error and R-Square"
   ]
  },
  {
   "cell_type": "code",
   "execution_count": 59,
   "id": "626a75c6",
   "metadata": {},
   "outputs": [
    {
     "name": "stdout",
     "output_type": "stream",
     "text": [
      "Mean Absolute Error: 4.894510863410611\n"
     ]
    }
   ],
   "source": [
    "from sklearn import metrics  \n",
    "print('Mean Absolute Error:', metrics.mean_absolute_error(y_test, pre)) "
   ]
  },
  {
   "cell_type": "code",
   "execution_count": 60,
   "id": "128b0672",
   "metadata": {},
   "outputs": [
    {
     "name": "stdout",
     "output_type": "stream",
     "text": [
      "The R-Square of the model is:  0.956640847232559\n"
     ]
    }
   ],
   "source": [
    "from sklearn.metrics import r2_score\n",
    "print(\"The R-Square of the model is: \",r2_score(y_test,pre))"
   ]
  },
  {
   "cell_type": "markdown",
   "id": "3bd3705b",
   "metadata": {},
   "source": [
    "# Conclusion : \n",
    "\n",
    "The student secures **92.65** if he/she studies for **9.25** hrs/day"
   ]
  },
  {
   "cell_type": "markdown",
   "id": "00cfd5de",
   "metadata": {},
   "source": [
    "# "
   ]
  }
 ],
 "metadata": {
  "kernelspec": {
   "display_name": "Python 3",
   "language": "python",
   "name": "python3"
  },
  "language_info": {
   "codemirror_mode": {
    "name": "ipython",
    "version": 3
   },
   "file_extension": ".py",
   "mimetype": "text/x-python",
   "name": "python",
   "nbconvert_exporter": "python",
   "pygments_lexer": "ipython3",
   "version": "3.8.8"
  }
 },
 "nbformat": 4,
 "nbformat_minor": 5
}
{
 "cells": [
  {
   "cell_type": "markdown",
   "id": "bbb9cb41",
   "metadata": {},
   "source": [
    "# GRIP Task1 - Prediction using Supervised ML\n",
    "\n",
    "\n",
    "\n",
    "\n"
   ]
  },
  {
   "cell_type": "markdown",
   "id": "11518047",
   "metadata": {},
   "source": [
    "# "
   ]
  },
  {
   "cell_type": "markdown",
   "id": "31a13a4d",
   "metadata": {},
   "source": [
    "Author - Vishal Agarwal\n",
    "\n",
    "GRIPJULY21\n"
   ]
  },
  {
   "cell_type": "markdown",
   "id": "00273d1f",
   "metadata": {},
   "source": [
    "# "
   ]
  },
  {
   "cell_type": "code",
   "execution_count": 45,
   "id": "0057367f",
   "metadata": {},
   "outputs": [],
   "source": [
    "#importing all the libraries\n",
    "\n",
    "import numpy as np\n",
    "import pandas as pd\n",
    "import matplotlib.pyplot as mb\n",
    "%matplotlib inline\n",
    "import seaborn as sb "
   ]
  },
  {
   "cell_type": "code",
   "execution_count": 46,
   "id": "740c0d65",
   "metadata": {},
   "outputs": [
    {
     "name": "stdout",
     "output_type": "stream",
     "text": [
      "Data imported successfully\n"
     ]
    }
   ],
   "source": [
    "#importing and reaading the dataset\n",
    "\n",
    "sc = pd.read_csv('https://raw.githubusercontent.com/AdiPersonalWorks/Random/master/student_scores%20-%20student_scores.csv')\n",
    "print(\"Data imported successfully\")"
   ]
  },
  {
   "cell_type": "code",
   "execution_count": 47,
   "id": "7c4998c0",
   "metadata": {},
   "outputs": [
    {
     "name": "stdout",
     "output_type": "stream",
     "text": [
      "<class 'pandas.core.frame.DataFrame'>\n",
      "RangeIndex: 25 entries, 0 to 24\n",
      "Data columns (total 2 columns):\n",
      " #   Column  Non-Null Count  Dtype  \n",
      "---  ------  --------------  -----  \n",
      " 0   Hours   25 non-null     float64\n",
      " 1   Scores  25 non-null     int64  \n",
      "dtypes: float64(1), int64(1)\n",
      "memory usage: 528.0 bytes\n"
     ]
    }
   ],
   "source": [
    "#info if the dataset\n",
    "\n",
    "sc.info()"
   ]
  },
  {
   "cell_type": "code",
   "execution_count": 48,
   "id": "960c3bc9",
   "metadata": {},
   "outputs": [
    {
     "data": {
      "text/html": [
       "<div>\n",
       "<style scoped>\n",
       "    .dataframe tbody tr th:only-of-type {\n",
       "        vertical-align: middle;\n",
       "    }\n",
       "\n",
       "    .dataframe tbody tr th {\n",
       "        vertical-align: top;\n",
       "    }\n",
       "\n",
       "    .dataframe thead th {\n",
       "        text-align: right;\n",
       "    }\n",
       "</style>\n",
       "<table border=\"1\" class=\"dataframe\">\n",
       "  <thead>\n",
       "    <tr style=\"text-align: right;\">\n",
       "      <th></th>\n",
       "      <th>Hours</th>\n",
       "      <th>Scores</th>\n",
       "    </tr>\n",
       "  </thead>\n",
       "  <tbody>\n",
       "    <tr>\n",
       "      <th>0</th>\n",
       "      <td>2.5</td>\n",
       "      <td>21</td>\n",
       "    </tr>\n",
       "    <tr>\n",
       "      <th>1</th>\n",
       "      <td>5.1</td>\n",
       "      <td>47</td>\n",
       "    </tr>\n",
       "    <tr>\n",
       "      <th>2</th>\n",
       "      <td>3.2</td>\n",
       "      <td>27</td>\n",
       "    </tr>\n",
       "    <tr>\n",
       "      <th>3</th>\n",
       "      <td>8.5</td>\n",
       "      <td>75</td>\n",
       "    </tr>\n",
       "    <tr>\n",
       "      <th>4</th>\n",
       "      <td>3.5</td>\n",
       "      <td>30</td>\n",
       "    </tr>\n",
       "  </tbody>\n",
       "</table>\n",
       "</div>"
      ],
      "text/plain": [
       "   Hours  Scores\n",
       "0    2.5      21\n",
       "1    5.1      47\n",
       "2    3.2      27\n",
       "3    8.5      75\n",
       "4    3.5      30"
      ]
     },
     "execution_count": 48,
     "metadata": {},
     "output_type": "execute_result"
    }
   ],
   "source": [
    "#the first five values in the dataset\n",
    "\n",
    "sc.head()"
   ]
  },
  {
   "cell_type": "markdown",
   "id": "6fb4954d",
   "metadata": {},
   "source": [
    "Plotting Hours against Scores on a 2D graph"
   ]
  },
  {
   "cell_type": "code",
   "execution_count": 49,
   "id": "a1f65ae8",
   "metadata": {},
   "outputs": [
    {
     "data": {
      "text/plain": [
       "Text(0.5, 1.0, 'Hours vs Scores')"
      ]
     },
     "execution_count": 49,
     "metadata": {},
     "output_type": "execute_result"
    },
    {
     "data": {
      "image/png": "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\n",
      "text/plain": [
       "<Figure size 432x288 with 1 Axes>"
      ]
     },
     "metadata": {
      "needs_background": "light"
     },
     "output_type": "display_data"
    }
   ],
   "source": [
    "# Plotting the distribution of scores\n",
    "\n",
    "sb.scatterplot(x='Hours',y='Scores', data=sc)\n",
    "mb.title('Hours vs Scores')"
   ]
  },
  {
   "cell_type": "markdown",
   "id": "509f7224",
   "metadata": {},
   "source": [
    "The graph shows that there is a positive relation between Hours and Scores"
   ]
  },
  {
   "cell_type": "markdown",
   "id": "f3163002",
   "metadata": {},
   "source": [
    "# Preparing and training the data"
   ]
  },
  {
   "cell_type": "code",
   "execution_count": 50,
   "id": "1bbeb095",
   "metadata": {},
   "outputs": [],
   "source": [
    "#import of model from sklearn\n",
    "\n",
    "from sklearn.model_selection import train_test_split  "
   ]
  },
  {
   "cell_type": "code",
   "execution_count": 51,
   "id": "037e5281",
   "metadata": {},
   "outputs": [],
   "source": [
    "#dividing the data into \"attributes\" (inputs) and \"labels\" (outputs)\n",
    "\n",
    "X = sc.iloc[:, :-1].values  \n",
    "y = sc.iloc[:, 1].values \n",
    "\n",
    "#splitting the data using Scikit-Learn's built-in train_test_split() method:\n",
    "\n",
    "X_train, X_test, y_train, y_test = train_test_split(X, y, test_size=0.4, random_state=0)"
   ]
  },
  {
   "cell_type": "code",
   "execution_count": 52,
   "id": "5b33cc8c",
   "metadata": {},
   "outputs": [
    {
     "name": "stdout",
     "output_type": "stream",
     "text": [
      "Training is complete.\n"
     ]
    }
   ],
   "source": [
    "#import of linear regression model from sklearn\n",
    "\n",
    "from sklearn.linear_model import LinearRegression  \n",
    "lr = LinearRegression()  \n",
    "lr.fit(X_train, y_train) \n",
    "\n",
    "print(\"Training is complete.\")"
   ]
  },
  {
   "cell_type": "code",
   "execution_count": 53,
   "id": "205dd988",
   "metadata": {},
   "outputs": [
    {
     "data": {
      "text/plain": [
       "array([9.89775614])"
      ]
     },
     "execution_count": 53,
     "metadata": {},
     "output_type": "execute_result"
    }
   ],
   "source": [
    "#finding the coefficient of regression\n",
    "\n",
    "lr.coef_"
   ]
  },
  {
   "cell_type": "code",
   "execution_count": 54,
   "id": "71d4d4c1",
   "metadata": {},
   "outputs": [
    {
     "data": {
      "image/png": "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\n",
      "text/plain": [
       "<Figure size 432x288 with 1 Axes>"
      ]
     },
     "metadata": {
      "needs_background": "light"
     },
     "output_type": "display_data"
    }
   ],
   "source": [
    "# Plotting the regression line\n",
    "\n",
    "line = lr.coef_*X+lr.intercept_\n",
    "\n",
    "# Plotting for the test data\n",
    "\n",
    "mb.scatter(X, y)\n",
    "mb.plot(X, line);\n",
    "mb.show()"
   ]
  },
  {
   "cell_type": "code",
   "execution_count": 55,
   "id": "c953cef7",
   "metadata": {},
   "outputs": [],
   "source": [
    "#predicting the model\n",
    "\n",
    "pre = lr.predict(X_test)"
   ]
  },
  {
   "cell_type": "code",
   "execution_count": 56,
   "id": "461bf414",
   "metadata": {},
   "outputs": [
    {
     "data": {
      "text/html": [
       "<div>\n",
       "<style scoped>\n",
       "    .dataframe tbody tr th:only-of-type {\n",
       "        vertical-align: middle;\n",
       "    }\n",
       "\n",
       "    .dataframe tbody tr th {\n",
       "        vertical-align: top;\n",
       "    }\n",
       "\n",
       "    .dataframe thead th {\n",
       "        text-align: right;\n",
       "    }\n",
       "</style>\n",
       "<table border=\"1\" class=\"dataframe\">\n",
       "  <thead>\n",
       "    <tr style=\"text-align: right;\">\n",
       "      <th></th>\n",
       "      <th>Actual Data</th>\n",
       "      <th>Predicted Data</th>\n",
       "    </tr>\n",
       "  </thead>\n",
       "  <tbody>\n",
       "    <tr>\n",
       "      <th>0</th>\n",
       "      <td>20</td>\n",
       "      <td>15.947762</td>\n",
       "    </tr>\n",
       "    <tr>\n",
       "      <th>1</th>\n",
       "      <td>27</td>\n",
       "      <td>32.773947</td>\n",
       "    </tr>\n",
       "    <tr>\n",
       "      <th>2</th>\n",
       "      <td>69</td>\n",
       "      <td>74.344523</td>\n",
       "    </tr>\n",
       "    <tr>\n",
       "      <th>3</th>\n",
       "      <td>30</td>\n",
       "      <td>25.845518</td>\n",
       "    </tr>\n",
       "    <tr>\n",
       "      <th>4</th>\n",
       "      <td>62</td>\n",
       "      <td>59.497889</td>\n",
       "    </tr>\n",
       "    <tr>\n",
       "      <th>5</th>\n",
       "      <td>35</td>\n",
       "      <td>38.712601</td>\n",
       "    </tr>\n",
       "    <tr>\n",
       "      <th>6</th>\n",
       "      <td>24</td>\n",
       "      <td>19.906864</td>\n",
       "    </tr>\n",
       "    <tr>\n",
       "      <th>7</th>\n",
       "      <td>86</td>\n",
       "      <td>78.303625</td>\n",
       "    </tr>\n",
       "    <tr>\n",
       "      <th>8</th>\n",
       "      <td>76</td>\n",
       "      <td>69.395645</td>\n",
       "    </tr>\n",
       "    <tr>\n",
       "      <th>9</th>\n",
       "      <td>17</td>\n",
       "      <td>11.988659</td>\n",
       "    </tr>\n",
       "  </tbody>\n",
       "</table>\n",
       "</div>"
      ],
      "text/plain": [
       "   Actual Data  Predicted Data\n",
       "0           20       15.947762\n",
       "1           27       32.773947\n",
       "2           69       74.344523\n",
       "3           30       25.845518\n",
       "4           62       59.497889\n",
       "5           35       38.712601\n",
       "6           24       19.906864\n",
       "7           86       78.303625\n",
       "8           76       69.395645\n",
       "9           17       11.988659"
      ]
     },
     "execution_count": 56,
     "metadata": {},
     "output_type": "execute_result"
    }
   ],
   "source": [
    "# Comparing Actual vs Predicted Data\n",
    "\n",
    "df = pd.DataFrame({'Actual Data': y_test, 'Predicted Data': pre})  \n",
    "df "
   ]
  },
  {
   "cell_type": "code",
   "execution_count": 57,
   "id": "6ab33364",
   "metadata": {},
   "outputs": [
    {
     "name": "stdout",
     "output_type": "stream",
     "text": [
      "Predicted Score of a student studies for 9.25 hrs/day is = [92.65537185]\n"
     ]
    }
   ],
   "source": [
    "#Finding out the task where the student studies for 9.25 hrs/ day\n",
    "\n",
    "dataset = np.array(9.25)\n",
    "hrs = dataset.reshape(-1, 1)\n",
    "hrs_pre = lr.predict(hrs)\n",
    "print('Predicted Score of a student studies for 9.25 hrs/day is = {}'.format(hrs_pre))"
   ]
  },
  {
   "cell_type": "code",
   "execution_count": 58,
   "id": "f910d943",
   "metadata": {},
   "outputs": [
    {
     "ename": "SyntaxError",
     "evalue": "invalid syntax (<ipython-input-58-d4f7c3875a89>, line 3)",
     "output_type": "error",
     "traceback": [
      "\u001b[1;36m  File \u001b[1;32m\"<ipython-input-58-d4f7c3875a89>\"\u001b[1;36m, line \u001b[1;32m3\u001b[0m\n\u001b[1;33m    We have found out the Mean Absolute Error and R-Square\u001b[0m\n\u001b[1;37m       ^\u001b[0m\n\u001b[1;31mSyntaxError\u001b[0m\u001b[1;31m:\u001b[0m invalid syntax\n"
     ]
    }
   ],
   "source": [
    "##Evaluation of the model\n",
    "\n",
    "We have found out the Mean Absolute Error and R-Square"
   ]
  },
  {
   "cell_type": "code",
   "execution_count": 59,
   "id": "626a75c6",
   "metadata": {},
   "outputs": [
    {
     "name": "stdout",
     "output_type": "stream",
     "text": [
      "Mean Absolute Error: 4.894510863410611\n"
     ]
    }
   ],
   "source": [
    "from sklearn import metrics  \n",
    "print('Mean Absolute Error:', metrics.mean_absolute_error(y_test, pre)) "
   ]
  },
  {
   "cell_type": "code",
   "execution_count": 60,
   "id": "128b0672",
   "metadata": {},
   "outputs": [
    {
     "name": "stdout",
     "output_type": "stream",
     "text": [
      "The R-Square of the model is:  0.956640847232559\n"
     ]
    }
   ],
   "source": [
    "from sklearn.metrics import r2_score\n",
    "print(\"The R-Square of the model is: \",r2_score(y_test,pre))"
   ]
  },
  {
   "cell_type": "markdown",
   "id": "3bd3705b",
   "metadata": {},
   "source": [
    "# Conclusion : \n",
    "\n",
    "The student secures **92.65** if he/she studies for **9.25** hrs/day"
   ]
  },
  {
   "cell_type": "markdown",
   "id": "00cfd5de",
   "metadata": {},
   "source": [
    "# "
   ]
  }
 ],
 "metadata": {
  "kernelspec": {
   "display_name": "Python 3",
   "language": "python",
   "name": "python3"
  },
  "language_info": {
   "codemirror_mode": {
    "name": "ipython",
    "version": 3
   },
   "file_extension": ".py",
   "mimetype": "text/x-python",
   "name": "python",
   "nbconvert_exporter": "python",
   "pygments_lexer": "ipython3",
   "version": "3.8.8"
  }
 },
 "nbformat": 4,
 "nbformat_minor": 5
}
